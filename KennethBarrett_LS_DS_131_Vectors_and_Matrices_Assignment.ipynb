{
  "nbformat": 4,
  "nbformat_minor": 0,
  "metadata": {
    "colab": {
      "name": "Copy of LS_DS_131_Vectors_and_Matrices_Assignment.ipynb",
      "provenance": [],
      "collapsed_sections": [],
      "include_colab_link": true
    },
    "kernelspec": {
      "display_name": "Python 3",
      "language": "python",
      "name": "python3"
    },
    "language_info": {
      "codemirror_mode": {
        "name": "ipython",
        "version": 3
      },
      "file_extension": ".py",
      "mimetype": "text/x-python",
      "name": "python",
      "nbconvert_exporter": "python",
      "pygments_lexer": "ipython3",
      "version": "3.7.3"
    }
  },
  "cells": [
    {
      "cell_type": "markdown",
      "metadata": {
        "id": "view-in-github",
        "colab_type": "text"
      },
      "source": [
        "<a href=\"https://colab.research.google.com/github/KennethTBarrett/DS-Unit-1-Sprint-3-Linear-Algebra/blob/master/KennethBarrett_LS_DS_131_Vectors_and_Matrices_Assignment.ipynb\" target=\"_parent\"><img src=\"https://colab.research.google.com/assets/colab-badge.svg\" alt=\"Open In Colab\"/></a>"
      ]
    },
    {
      "cell_type": "markdown",
      "metadata": {
        "colab_type": "text",
        "id": "yXA3GwWhY9KL"
      },
      "source": [
        "# Part 1 - Scalars and Vectors\n",
        "\n",
        "For the questions below it is not sufficient to simply provide answer to the questions, but you must solve the problems and show your work using python (the NumPy library will help a lot!) Translate the vectors and matrices into their appropriate python  representations and use numpy or functions that you write yourself to demonstrate the result or property. "
      ]
    },
    {
      "cell_type": "markdown",
      "metadata": {
        "colab_type": "text",
        "id": "oNOTv43_Zi9L"
      },
      "source": [
        "## 1.1 Create a two-dimensional vector and plot it on a graph"
      ]
    },
    {
      "cell_type": "code",
      "metadata": {
        "colab_type": "code",
        "id": "XNqjzQzrkVG7",
        "outputId": "0ac4c5b5-0c95-45d0-c37a-f48db3641755",
        "colab": {
          "base_uri": "https://localhost:8080/",
          "height": 269
        }
      },
      "source": [
        "import numpy as np\n",
        "import matplotlib.pyplot as plt\n",
        "\n",
        "fig, ax = plt.subplots()\n",
        "ax.grid()\n",
        "plt.xlim(0, 10)\n",
        "plt.ylim(0, 10)\n",
        "plt.show;\n",
        "\n",
        "a = [1.0, 2.0]\n",
        "b = [2, 3]\n",
        "\n",
        "for color, vector in [('gray', a), \n",
        "                      ('black', b)]:\n",
        "        plt.arrow(0,0,\n",
        "          vector[0],\n",
        "          vector[1],\n",
        "          head_width = 0.2,\n",
        "          head_length = 0.2,\n",
        "          linewidth = 3,\n",
        "          color = color);\n"
      ],
      "execution_count": 47,
      "outputs": [
        {
          "output_type": "display_data",
          "data": {
            "image/png": "[encoded data removed]",
            "text/plain": [
              "<Figure size 432x288 with 1 Axes>"
            ]
          },
          "metadata": {
            "tags": []
          }
        }
      ]
    },
    {
      "cell_type": "markdown",
      "metadata": {
        "colab_type": "text",
        "id": "unKFT619lk3e"
      },
      "source": [
        "## 1.2 Create a three-dimensional vector and plot it on a graph"
      ]
    },
    {
      "cell_type": "code",
      "metadata": {
        "colab_type": "code",
        "id": "atUEd3T6llKm",
        "colab": {}
      },
      "source": [
        "from mpl_toolkits.mplot3d import Axes3D\n",
        "\n",
        "c = [[3, 4, 5],\n",
        "    [1, 4, 3]]\n",
        "\n",
        "X, Y, Z = zip(*c)\n"
      ],
      "execution_count": 0,
      "outputs": []
    },
    {
      "cell_type": "code",
      "metadata": {
        "id": "Izs66-ipK4IE",
        "colab_type": "code",
        "outputId": "095e7164-ad38-4f06-9f8a-dcffc0abbbfa",
        "colab": {
          "base_uri": "https://localhost:8080/",
          "height": 248
        }
      },
      "source": [
        "fig = plt.figure()\n",
        "ax = fig.add_subplot(111, projection='3d')\n",
        "ax.set_xlim([0, 10])\n",
        "ax.set_ylim([0, 10])\n",
        "ax.set_zlim([0, 10])\n",
        "ax.set_xlabel('X')\n",
        "ax.set_ylabel('Y')\n",
        "ax.set_zlabel('Z')\n",
        "\n",
        "ax.quiver(X[0], Y[0], Z[0], X[1], Y[1], Z[1], color = 'gold', length = 1, linewidth = 6)\n",
        "\n",
        "plt.show()"
      ],
      "execution_count": 49,
      "outputs": [
        {
          "output_type": "display_data",
          "data": {
            "image/png": "[encoded data removed]",
            "text/plain": [
              "<Figure size 432x288 with 1 Axes>"
            ]
          },
          "metadata": {
            "tags": []
          }
        }
      ]
    },
    {
      "cell_type": "markdown",
      "metadata": {
        "colab_type": "text",
        "id": "b7qFxbKxZmI2"
      },
      "source": [
        "## 1.3 Scale the vectors you created in 1.1 by $5$, $\\pi$, and $-e$ and plot all four vectors (original + 3 scaled vectors) on a graph. What do you notice about these vectors? "
      ]
    },
    {
      "cell_type": "code",
      "metadata": {
        "colab_type": "code",
        "id": "ah6zMSLJdJwL",
        "outputId": "d45c20d9-74cb-4364-c468-35ba87999df1",
        "colab": {
          "base_uri": "https://localhost:8080/",
          "height": 52
        }
      },
      "source": [
        "from math import e, pi\n",
        "import math\n",
        "print(e)\n",
        "print(pi)"
      ],
      "execution_count": 50,
      "outputs": [
        {
          "output_type": "stream",
          "text": [
            "2.718281828459045\n",
            "3.141592653589793\n"
          ],
          "name": "stdout"
        }
      ]
    },
    {
      "cell_type": "code",
      "metadata": {
        "colab_type": "code",
        "id": "3qpwDlzXkVf5",
        "colab": {}
      },
      "source": [
        "vectora1 = np.multiply(math.pi, a)\n",
        "vectora2 = np.multiply(-math.e, a)\n",
        "vectorb1 = np.multiply(math.pi, b)\n",
        "vectorb2 = np.multiply(-math.e, b)"
      ],
      "execution_count": 0,
      "outputs": []
    },
    {
      "cell_type": "code",
      "metadata": {
        "id": "zWNt2n3VaLuJ",
        "colab_type": "code",
        "outputId": "cda18790-5182-41b7-8fed-a9119f9e67c2",
        "colab": {
          "base_uri": "https://localhost:8080/",
          "height": 269
        }
      },
      "source": [
        "fig, ax = plt.subplots()\n",
        "ax.grid()\n",
        "plt.xlim(-10, 10)\n",
        "plt.ylim(-10, 10)\n",
        "plt.show;\n",
        "\n",
        "\n",
        "for color, vector in [('orange', a), \n",
        "                      ('purple', vectora1), \n",
        "                      ('green', vectora2),\n",
        "                      ('blue', b),\n",
        "                      ('gray', vectorb2),\n",
        "                      ('red', vectorb1)]:\n",
        "        plt.arrow(0,0,\n",
        "          vector[0],\n",
        "          vector[1],\n",
        "          head_width = 0.5,\n",
        "          head_length = 0.2,\n",
        "          linewidth = 3,\n",
        "          color = color);"
      ],
      "execution_count": 52,
      "outputs": [
        {
          "output_type": "display_data",
          "data": {
            "image/png": "[encoded data removed]",
            "text/plain": [
              "<Figure size 432x288 with 1 Axes>"
            ]
          },
          "metadata": {
            "tags": []
          }
        }
      ]
    },
    {
      "cell_type": "markdown",
      "metadata": {
        "colab_type": "text",
        "id": "wrgqa6sWimbH"
      },
      "source": [
        "## 1.4 Graph vectors $\\vec{a}$ and $\\vec{b}$ and plot them on a graph\n",
        "\n",
        "\\begin{align}\n",
        "\\vec{a} = \\begin{bmatrix} 5 \\\\ 7 \\end{bmatrix}\n",
        "\\qquad\n",
        "\\vec{b} = \\begin{bmatrix} 3 \\\\4 \\end{bmatrix}\n",
        "\\end{align}"
      ]
    },
    {
      "cell_type": "code",
      "metadata": {
        "colab_type": "code",
        "id": "I1BGXA_skV-b",
        "outputId": "c2363703-43a4-43bd-8209-6dda85aeac49",
        "colab": {
          "base_uri": "https://localhost:8080/",
          "height": 269
        }
      },
      "source": [
        "a = np.array([5, 7])\n",
        "b = np.array([3, 4])\n",
        "\n",
        "plt.xlim(-10, 10)\n",
        "plt.ylim(-10, 10)\n",
        "plt.arrow(0, 0, a[0], a[1], color = 'green', head_width = 0.5, head_length = 0.5, linewidth = 2.5)\n",
        "plt.arrow(0, 0, b[0], b[1], color = 'darkcyan', head_width = 0.5, head_length = 0.5, linewidth = 2.5)\n",
        "plt.show();"
      ],
      "execution_count": 158,
      "outputs": [
        {
          "output_type": "display_data",
          "data": {
            "image/png": "[encoded data removed]",
            "text/plain": [
              "<Figure size 432x288 with 1 Axes>"
            ]
          },
          "metadata": {
            "tags": []
          }
        }
      ]
    },
    {
      "cell_type": "markdown",
      "metadata": {
        "colab_type": "text",
        "id": "QN6RU_3gizpw"
      },
      "source": [
        "## 1.5 find $\\vec{a} - \\vec{b}$ and plot the result on the same graph as $\\vec{a}$ and $\\vec{b}$. Is there a relationship between vectors $\\vec{a} \\thinspace, \\vec{b} \\thinspace \\text{and} \\thinspace \\vec{a-b}$"
      ]
    },
    {
      "cell_type": "code",
      "metadata": {
        "colab_type": "code",
        "id": "68sWHIOPkXp5",
        "colab": {
          "base_uri": "https://localhost:8080/",
          "height": 269
        },
        "outputId": "9091bfea-284e-4619-da46-1cb202a977a2"
      },
      "source": [
        "c = a - b\n",
        "\n",
        "plt.xlim(0, 10)\n",
        "plt.ylim(0, 10)\n",
        "plt.arrow(0, 0, a[0], a[1], color = 'green', head_width = 0.5, head_length = 0.5, linewidth = 2.5)\n",
        "plt.arrow(0, 0, b[0], b[1], color = 'darkcyan', head_width = 0.5, head_length = 0.5, linewidth = 2.5)\n",
        "plt.arrow(0, 0, c[0], c[1], color = 'yellow', head_width = 0.5, head_length = 0.5, linewidth = 2.5)\n",
        "plt.show();\n",
        "\n",
        "# a is slightly skewered upwards from b, and a - b is slightly skewered upwards from a."
      ],
      "execution_count": 163,
      "outputs": [
        {
          "output_type": "display_data",
          "data": {
            "image/png": "[encoded data removed]",
            "text/plain": [
              "<Figure size 432x288 with 1 Axes>"
            ]
          },
          "metadata": {
            "tags": []
          }
        }
      ]
    },
    {
      "cell_type": "markdown",
      "metadata": {
        "colab_type": "text",
        "id": "1ZPVuJAlehu_"
      },
      "source": [
        "## 1.6 Find $c \\cdot d$\n",
        "\n",
        "\\begin{align}\n",
        "\\vec{c} = \\begin{bmatrix}7 & 22 & 4 & 16\\end{bmatrix}\n",
        "\\qquad\n",
        "\\vec{d} = \\begin{bmatrix}12 & 6 & 2 & 9\\end{bmatrix}\n",
        "\\end{align}\n"
      ]
    },
    {
      "cell_type": "code",
      "metadata": {
        "colab_type": "code",
        "id": "2_cZQFCskYNr",
        "colab": {}
      },
      "source": [
        "c = [7, 22, 4, 16]\n",
        "d = [12, 6, 2, 9]\n",
        "\n",
        "findcd = np.dot(c, d)\n",
        "findcd"
      ],
      "execution_count": 0,
      "outputs": []
    },
    {
      "cell_type": "markdown",
      "metadata": {
        "colab_type": "text",
        "id": "cLm8yokpfg9B"
      },
      "source": [
        "##  1.7 Find $e \\times f$\n",
        "\n",
        "\\begin{align}\n",
        "\\vec{e} = \\begin{bmatrix} 5 \\\\ 7 \\\\ 2 \\end{bmatrix}\n",
        "\\qquad\n",
        "\\vec{f} = \\begin{bmatrix} 3 \\\\4 \\\\ 6 \\end{bmatrix}\n",
        "\\end{align}"
      ]
    },
    {
      "cell_type": "code",
      "metadata": {
        "colab_type": "code",
        "id": "ku-TdCKAkYs8",
        "colab": {}
      },
      "source": [
        "e = [[5], [7], [2]]\n",
        "f = [[3], [4], [6]]\n",
        "\n",
        "np.cross(e, f, axis = 0) # Axis is 0 because it is a column vector."
      ],
      "execution_count": 0,
      "outputs": []
    },
    {
      "cell_type": "markdown",
      "metadata": {
        "colab_type": "text",
        "id": "-TN8wO2-h53s"
      },
      "source": [
        "## 1.8 Find $||g||$ and then find $||h||$. Which is longer?\n",
        "\n",
        "\\begin{align}\n",
        "\\vec{g} = \\begin{bmatrix} 1 \\\\ 1 \\\\ 1 \\\\ 8 \\end{bmatrix}\n",
        "\\qquad\n",
        "\\vec{h} = \\begin{bmatrix} 3 \\\\3 \\\\ 3 \\\\ 3 \\end{bmatrix}\n",
        "\\end{align}"
      ]
    },
    {
      "cell_type": "code",
      "metadata": {
        "colab_type": "code",
        "id": "-5VKOMKBlgaA",
        "colab": {}
      },
      "source": [
        "g = [[1], [1], [1], [8]]\n",
        "h = [[3], [3], [3], [3]]\n",
        "\n",
        "normg = np.linalg.norm(g)\n",
        "normh = np.linalg.norm(h)\n",
        "\n",
        "print('Norm of g:', normg, '\\n', 'Norm of h:', normh)\n",
        "\n",
        "# 'g' is longer."
      ],
      "execution_count": 0,
      "outputs": []
    },
    {
      "cell_type": "markdown",
      "metadata": {
        "colab_type": "text",
        "id": "njrWIMS-ZAoH"
      },
      "source": [
        "# Part 2 - Matrices"
      ]
    },
    {
      "cell_type": "markdown",
      "metadata": {
        "colab_type": "text",
        "id": "GjkcAVIOmOnn"
      },
      "source": [
        "## 2.1 What are the dimensions of the following matrices? Which of the following can be multiplied together? See if you can find all of the different legal combinations.\n",
        "\\begin{align}\n",
        "A = \\begin{bmatrix}\n",
        "1 & 2 \\\\\n",
        "3 & 4 \\\\\n",
        "5 & 6\n",
        "\\end{bmatrix}\n",
        "\\qquad\n",
        "B = \\begin{bmatrix}\n",
        "2 & 4 & 6 \\\\\n",
        "\\end{bmatrix}\n",
        "\\qquad\n",
        "C = \\begin{bmatrix}\n",
        "9 & 6 & 3 \\\\\n",
        "4 & 7 & 11\n",
        "\\end{bmatrix}\n",
        "\\qquad\n",
        "D = \\begin{bmatrix}\n",
        "1 & 0 & 0 \\\\\n",
        "0 & 1 & 0 \\\\\n",
        "0 & 0 & 1\n",
        "\\end{bmatrix}\n",
        "\\qquad\n",
        "E = \\begin{bmatrix}\n",
        "1 & 3 \\\\\n",
        "5 & 7\n",
        "\\end{bmatrix}\n",
        "\\end{align}"
      ]
    },
    {
      "cell_type": "code",
      "metadata": {
        "colab_type": "code",
        "id": "Z69c-uPtnbIx",
        "colab": {}
      },
      "source": [
        "# A is a 3 x 2 Matrix\n",
        "# B is a 1 x 3 Matrix\n",
        "# C is a 2 x 3 Matrix\n",
        "# D is a 3 x 3 Matrix\n",
        "# E is a 2 x 2 Matrix\n",
        "\n",
        "a = np.array([[1, 2], [3, 4], [5, 6]])\n",
        "b = np.array([2, 4, 6])\n",
        "c = np.array([[9, 6, 3], [4, 7, 11]])\n",
        "d = np.array([[1, 0, 0], [0, 1, 0], [0, 0, 1]])\n",
        "e = np.array([[1, 3], [5, 7]])\n",
        "\n",
        "# A * B does not work\n",
        "# A * C does not work\n",
        "# A * D does not work\n",
        "# A * E does not work\n",
        "\n",
        "one = b * c # B * C works!\n",
        "two = b * d # B * D works!\n",
        "\n",
        "# B * E does not work\n",
        "# C * D does not work\n",
        "# C * E does not work\n",
        "# D * E does not work"
      ],
      "execution_count": 0,
      "outputs": []
    },
    {
      "cell_type": "markdown",
      "metadata": {
        "colab_type": "text",
        "id": "lMOlCoM3ncGa"
      },
      "source": [
        "## 2.2 Find the following products: CD, AE, and BA. What are the dimensions of the resulting matrices? How does that relate to the dimensions of their factor matrices?"
      ]
    },
    {
      "cell_type": "code",
      "metadata": {
        "colab_type": "code",
        "id": "zhKwiSItoE2F",
        "colab": {
          "base_uri": "https://localhost:8080/",
          "height": 156
        },
        "outputId": "0d640f9f-ecf1-4be8-ca57-1856fc2005c9"
      },
      "source": [
        "CD = np.matmul(c, d)\n",
        "AE = np.matmul(a, e)\n",
        "BA = np.matmul(b, a)\n",
        "\n",
        "print(CD, 'The product of C & D has a dimension of 2 x 3, matching the dimension of C.', '\\n')\n",
        "print(AE, 'The product oc A & E has a dimension of 3x 2, matching the dimension of A.', '\\n')\n",
        "print(BA, 'The product of B & A has a dimension of 1 x 2, matching the dimension of B.')"
      ],
      "execution_count": 108,
      "outputs": [
        {
          "output_type": "stream",
          "text": [
            "[[ 9  6  3]\n",
            " [ 4  7 11]] The product of C & D has a dimension of 2 x 3, matching the dimension of C. \n",
            "\n",
            "[[11 17]\n",
            " [23 37]\n",
            " [35 57]] The product oc A & E has a dimension of 3x 2, matching the dimension of A. \n",
            "\n",
            "[44 56] The product of B & A has a dimension of 1 x 2, matching the dimension of B.\n"
          ],
          "name": "stdout"
        }
      ]
    },
    {
      "cell_type": "markdown",
      "metadata": {
        "colab_type": "text",
        "id": "p2jmaGLgoFPN"
      },
      "source": [
        "## 2.3  Find $F^{T}$. How are the numbers along the main diagonal (top left to bottom right) of the original matrix and its transpose related? What are the dimensions of $F$? What are the dimensions of $F^{T}$?\n",
        "\n",
        "\\begin{align}\n",
        "F = \n",
        "\\begin{bmatrix}\n",
        "20 & 19 & 18 & 17 \\\\\n",
        "16 & 15 & 14 & 13 \\\\\n",
        "12 & 11 & 10 & 9 \\\\\n",
        "8 & 7 & 6 & 5 \\\\\n",
        "4 & 3 & 2 & 1\n",
        "\\end{bmatrix}\n",
        "\\end{align}"
      ]
    },
    {
      "cell_type": "code",
      "metadata": {
        "colab_type": "code",
        "id": "Wl3ElwgLqaAn",
        "colab": {
          "base_uri": "https://localhost:8080/",
          "height": 86
        },
        "outputId": "c0c75dd5-be56-410d-b9b4-b80293772828"
      },
      "source": [
        "F = np.array([[20, 19, 18, 17], [16, 15, 14, 13], [12, 11, 10, 9], [8, 7, 6, 5], [4, 3, 2, 1]])\n",
        "\n",
        "F_T = F.T\n",
        "\n",
        "F_T \n",
        "\n",
        "# The diagonals stay the same, however, because it has been transposed, the dimensions have changed from 5 x 4 to 4 x 5."
      ],
      "execution_count": 107,
      "outputs": [
        {
          "output_type": "execute_result",
          "data": {
            "text/plain": [
              "array([[20, 16, 12,  8,  4],\n",
              "       [19, 15, 11,  7,  3],\n",
              "       [18, 14, 10,  6,  2],\n",
              "       [17, 13,  9,  5,  1]])"
            ]
          },
          "metadata": {
            "tags": []
          },
          "execution_count": 107
        }
      ]
    },
    {
      "cell_type": "markdown",
      "metadata": {
        "colab_type": "text",
        "id": "13ik2LEEZLHn"
      },
      "source": [
        "# Part 3 - Square Matrices"
      ]
    },
    {
      "cell_type": "markdown",
      "metadata": {
        "colab_type": "text",
        "id": "sDBAPUwfp7f7"
      },
      "source": [
        "## 3.1 Find $IG$ (be sure to show your work) 😃\n",
        "\n",
        "You don't have to do anything crazy complicated here to show your work, just create the G matrix as specified below, and a corresponding 2x2 Identity matrix and then multiply them together to show the result. You don't need to write LaTeX or anything like that (unless you want to).\n",
        "\n",
        "\\begin{align}\n",
        "G= \n",
        "\\begin{bmatrix}\n",
        "13 & 14 \\\\\n",
        "21 & 12 \n",
        "\\end{bmatrix}\n",
        "\\end{align}"
      ]
    },
    {
      "cell_type": "code",
      "metadata": {
        "colab_type": "code",
        "id": "ZnqvZBOYqar3",
        "colab": {
          "base_uri": "https://localhost:8080/",
          "height": 173
        },
        "outputId": "1d1bcdd4-4f27-434d-ad25-8561bc257df3"
      },
      "source": [
        "G = np.array([[13, 14], [21, 12]])\n",
        "I = np.array([[1, 0], [0, 1]])\n",
        "\n",
        "G = pd.DataFrame(G)\n",
        "I = pd.DataFrame(I)\n",
        "\n",
        "IG = np.matmul(I, G)\n",
        "\n",
        "print('G:\\n', G, '\\n\\n', 'IG:\\n', IG)"
      ],
      "execution_count": 124,
      "outputs": [
        {
          "output_type": "stream",
          "text": [
            "G:\n",
            "     0   1\n",
            "0  13  14\n",
            "1  21  12 \n",
            "\n",
            " IG:\n",
            "     0   1\n",
            "0  13  14\n",
            "1  21  12\n"
          ],
          "name": "stdout"
        }
      ]
    },
    {
      "cell_type": "markdown",
      "metadata": {
        "colab_type": "text",
        "id": "DZ_0XTDQqpMT"
      },
      "source": [
        "## 3.2 Find $|H|$ and then find $|J|$.\n",
        "\n",
        "\\begin{align}\n",
        "H= \n",
        "\\begin{bmatrix}\n",
        "12 & 11 \\\\\n",
        "7 & 10 \n",
        "\\end{bmatrix}\n",
        "\\qquad\n",
        "J= \n",
        "\\begin{bmatrix}\n",
        "0 & 1 & 2 \\\\\n",
        "7 & 10 & 4 \\\\\n",
        "3 & 2 & 0\n",
        "\\end{bmatrix}\n",
        "\\end{align}\n"
      ]
    },
    {
      "cell_type": "code",
      "metadata": {
        "colab_type": "code",
        "id": "5QShhoXyrjDS",
        "colab": {
          "base_uri": "https://localhost:8080/",
          "height": 52
        },
        "outputId": "3f4cf305-4b84-48b2-8606-6bfed5e7155f"
      },
      "source": [
        "H = np.array([[12, 11], [7, 10]])\n",
        "J = np.array([[0, 1, 2], [7, 10, 4], [3, 2, 0]])\n",
        "\n",
        "print('Determinant of H:', np.linalg.det(H))\n",
        "print('Determinant of J:', np.linalg.det(J))"
      ],
      "execution_count": 129,
      "outputs": [
        {
          "output_type": "stream",
          "text": [
            "Determinant of H: 43.000000000000014\n",
            "Determinant of J: -19.999999999999996\n"
          ],
          "name": "stdout"
        }
      ]
    },
    {
      "cell_type": "markdown",
      "metadata": {
        "colab_type": "text",
        "id": "2gZl1CFwrXSH"
      },
      "source": [
        "## 3.3 Find $H^{-1}$ and then find $J^{-1}$"
      ]
    },
    {
      "cell_type": "code",
      "metadata": {
        "colab_type": "code",
        "id": "nyX6De2-rio1",
        "colab": {
          "base_uri": "https://localhost:8080/",
          "height": 156
        },
        "outputId": "aab53594-11da-45ea-a056-1460b1ac3c20"
      },
      "source": [
        "H_inverse = np.linalg.inv(H)\n",
        "J_inverse = np.linalg.inv(J)\n",
        "\n",
        "print('Inverse of H:\\n', H_inverse, '\\n\\n', 'Inverse of J:\\n', J_inverse)"
      ],
      "execution_count": 133,
      "outputs": [
        {
          "output_type": "stream",
          "text": [
            "Inverse of H:\n",
            " [[ 0.23255814 -0.25581395]\n",
            " [-0.1627907   0.27906977]] \n",
            "\n",
            " Inverse of J:\n",
            " [[ 0.4  -0.2   0.8 ]\n",
            " [-0.6   0.3  -0.7 ]\n",
            " [ 0.8  -0.15  0.35]]\n"
          ],
          "name": "stdout"
        }
      ]
    },
    {
      "cell_type": "markdown",
      "metadata": {
        "colab_type": "text",
        "id": "Vvd4Pe86rjhW"
      },
      "source": [
        "## 3.4 Find $HH^{-1}$ and then find $J^{-1}J$. Is $HH^{-1} == J^{-1}J$? Why or Why not? \n",
        "\n",
        "Please ignore Python rounding errors. If necessary, format your output so that it rounds to 5 significant digits (the fifth decimal place)."
      ]
    },
    {
      "cell_type": "code",
      "metadata": {
        "id": "o7_iI-i1gc_d",
        "colab_type": "code",
        "colab": {
          "base_uri": "https://localhost:8080/",
          "height": 156
        },
        "outputId": "c89fc696-85da-4a12-8303-ff07db528285"
      },
      "source": [
        "H_Hinv = np.matmul(H, H_inverse)\n",
        "Jinv_J = np.matmul(J_inverse, J)\n",
        "\n",
        "print('H * H Inverse: \\n', H_Hinv, '\\n\\n', 'J Inverse * J: \\n', Jinv_J)"
      ],
      "execution_count": 140,
      "outputs": [
        {
          "output_type": "stream",
          "text": [
            "H * H Inverse: \n",
            " [[1.00000000e+00 5.55111512e-16]\n",
            " [2.22044605e-16 1.00000000e+00]] \n",
            "\n",
            " J Inverse * J: \n",
            " [[ 1.00000000e+00  2.22044605e-16  0.00000000e+00]\n",
            " [-1.11022302e-16  1.00000000e+00  0.00000000e+00]\n",
            " [-1.66533454e-16 -1.11022302e-16  1.00000000e+00]]\n"
          ],
          "name": "stdout"
        }
      ]
    },
    {
      "cell_type": "markdown",
      "metadata": {
        "colab_type": "text",
        "id": "V0iTO4McYjtk"
      },
      "source": [
        "# Stretch Goals: \n",
        "\n",
        "A reminder that these challenges are optional. If you finish your work quickly we welcome you to work on them. If there are other activities that you feel like will help your understanding of the above topics more, feel free to work on that. Topics from the Stretch Goals sections will never end up on Sprint Challenges. You don't have to do these in order, you don't have to do all of them. \n",
        "\n",
        "- Write a function that can calculate the dot product of any two vectors of equal length that are passed to it.\n",
        "- Write a function that can calculate the norm of any vector\n",
        "- Prove to yourself again that the vectors in 1.9 are orthogonal by graphing them. \n",
        "- Research how to plot a 3d graph with animations so that you can make the graph rotate (this will be easier in a local notebook than in google colab)\n",
        "- Create and plot a matrix on a 2d graph.\n",
        "- Create and plot a matrix on a 3d graph.\n",
        "- Plot two vectors that are not collinear on a 2d graph. Calculate the determinant of the 2x2 matrix that these vectors form. How does this determinant relate to the graphical interpretation of the vectors?\n",
        "\n"
      ]
    }
  ]
}